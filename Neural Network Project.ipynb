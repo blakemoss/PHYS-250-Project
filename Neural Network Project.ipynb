{
 "cells": [
  {
   "cell_type": "code",
   "execution_count": 438,
   "metadata": {},
   "outputs": [],
   "source": [
    "import numpy as np\n",
    "import matplotlib.pyplot as plt\n",
    "import pandas as pd"
   ]
  },
  {
   "cell_type": "markdown",
   "metadata": {},
   "source": [
    "Below is code for a single-layer perceptron classifier, along with explanations.\n"
   ]
  },
  {
   "cell_type": "code",
   "execution_count": 439,
   "metadata": {},
   "outputs": [],
   "source": [
    "class Perceptron(): #building the neural network as a class \n",
    "    def __init__(self, dim, rate = .01, epochs = 100):\n",
    "        self.epochs = epochs  #the number of epochs indicates the number of times the network cycles through the data to train itself\n",
    "        self.rate = rate   #the learning rate of the network\n",
    "        self.weights = np.zeros(dim + 1)  #initializes an array of zeros to contain the weights of the neural network\n",
    "    def predict(self, data):\n",
    "        a = np.dot(data, self.weights[1:]) + self.weights[0] #data is a row indicating the values of each characteristic for a given datapoint\n",
    "                                                             #dotting the data row w/ the weights \n",
    "        return 1 if a >= 0. else 0                  #the perceptron uses a step function to make predictions\n",
    "    def trainweights(self, traindata, labels):\n",
    "        for n in range(self.epochs):\n",
    "            for i in range(len(traindata)):   \n",
    "                p = self.predict(traindata[i])    #make a prediction for the individual datapoint\n",
    "                self.weights[1:] += self.rate * (labels[i] - p) * traindata[i]  #correct the weights based on the error from the actual values\n",
    "                self.weights[0] += self.rate * (labels[i] - p)\n",
    "                "
   ]
  },
  {
   "cell_type": "code",
   "execution_count": null,
   "metadata": {},
   "outputs": [],
   "source": []
  },
  {
   "cell_type": "markdown",
   "metadata": {},
   "source": [
    "Now that we have a neural network, let's apply it to some linearly-separable generated data. I use the np.random.multivariate_normal function to generate two 2D gaussians with different means."
   ]
  },
  {
   "cell_type": "code",
   "execution_count": 440,
   "metadata": {},
   "outputs": [
    {
     "data": {
      "image/png": "[encoded data removed]",
      "text/plain": [
       "<matplotlib.figure.Figure at 0x26480f32438>"
      ]
     },
     "metadata": {},
     "output_type": "display_data"
    }
   ],
   "source": [
    "\n",
    "mean_1 = [0, 0]\n",
    "cov_1 = [[1, 0], [0,1]]\n",
    "mean_2 = [3, 7]\n",
    "cov_2 = [[1,0], [0,1]]\n",
    "\n",
    "x1, y1 = np.random.multivariate_normal(mean_1, cov_1, size = 100).T\n",
    "\n",
    "x2, y2 = np.random.multivariate_normal(mean_2, cov_2, size = 100).T\n",
    "\n",
    "plt.scatter(x1,y1)\n",
    "plt.scatter(x2, y2)\n",
    "plt.axhline(y = 0, c = 'k')\n",
    "plt.axvline(x = 0, c='k')\n",
    "plt.show()"
   ]
  },
  {
   "cell_type": "markdown",
   "metadata": {},
   "source": [
    "the following code essentially initializes the datasets and manipulates them for reading by the neural network."
   ]
  },
  {
   "cell_type": "code",
   "execution_count": 441,
   "metadata": {},
   "outputs": [],
   "source": [
    "#create training data\n",
    "\n",
    "group_1 = np.random.multivariate_normal(mean_1, cov_1, size = 1000)\n",
    "group_2 = np.random.multivariate_normal(mean_2, cov_2, size = 1000)\n",
    "labels_1 = np.ones(len(group_1))\n",
    "labels_2 = np.zeros(len(group_2))\n",
    "\n",
    "group_1 = np.c_[labels_1, group_1]\n",
    "group_2 = np.c_[labels_2, group_2]\n",
    "\n",
    "\n",
    "#randomly shuffle data\n",
    "data = np.concatenate((group_1, group_2), axis = 0)\n",
    "np.random.shuffle(data)\n",
    "\n",
    "train_labels = data.T[0]\n",
    "train_data = (data.T[1:]).T\n",
    "\n",
    "\n",
    "\n",
    "#create test data\n",
    "\n",
    "group_1 = np.random.multivariate_normal(mean_1, cov_1, size = 250)\n",
    "group_2 = np.random.multivariate_normal(mean_2, cov_2, size = 250)\n",
    "labels_1 = np.ones(len(group_1))\n",
    "labels_2 = np.zeros(len(group_2))\n",
    "\n",
    "group_1 = np.c_[labels_1, group_1]\n",
    "group_2 = np.c_[labels_2, group_2]\n",
    "\n",
    "\n",
    "#randomly shuffle data\n",
    "data = np.concatenate((group_1, group_2), axis = 0)\n",
    "np.random.shuffle(data)\n",
    "\n",
    "test_labels = data.T[0]\n",
    "test_data = (data.T[1:]).T"
   ]
  },
  {
   "cell_type": "code",
   "execution_count": 442,
   "metadata": {},
   "outputs": [
    {
     "name": "stdout",
     "output_type": "stream",
     "text": [
      "The neural network categorized the test data with 100.0% accuracy.\n"
     ]
    }
   ],
   "source": [
    "test_perceptron = Perceptron(2, rate = 0.5, epochs = 10)  #the data is 2-dimensional\n",
    "test_perceptron.trainweights(train_data, train_labels)\n",
    "\n",
    "test_size = len(test_data)\n",
    "\n",
    "predicted_labels = np.zeros(test_size)\n",
    "\n",
    "for i in range(test_size):\n",
    "    d = test_perceptron.predict(test_data[i])\n",
    "    predicted_labels[i] = d\n",
    "\n",
    "acc = 0\n",
    "for i in range(len(predicted_labels)):\n",
    "    if predicted_labels[i] == test_labels[i]:\n",
    "        acc += 1\n",
    "    else:\n",
    "        pass\n",
    "\n",
    "acc = acc/len(predicted_labels)\n",
    "\n",
    "print('The neural network categorized the test data with ' + str(np.round(acc*100, 2))+ '% accuracy.')"
   ]
  },
  {
   "cell_type": "markdown",
   "metadata": {},
   "source": [
    "visualize decision boundary:\n",
    "\n",
    "the output of the neural network looks like\n",
    "\n",
    "$w_1x_1 + w_2x_2 + w_0$\n",
    "\n",
    "or $w_1x + w_2y + w_0$\n",
    "\n",
    "set equal to 0 to find decision boundary:\n",
    "\n",
    "$w_1x + w_2y + w_0 = 0$\n",
    "\n",
    "$\\implies y = \\frac{-w_1}{w_2}x  - \\frac{w_0}{w_2}$"
   ]
  },
  {
   "cell_type": "code",
   "execution_count": 443,
   "metadata": {},
   "outputs": [
    {
     "data": {
      "image/png": "[encoded data removed]",
      "text/plain": [
       "<matplotlib.figure.Figure at 0x26480f98898>"
      ]
     },
     "metadata": {},
     "output_type": "display_data"
    }
   ],
   "source": [
    "bias = test_perceptron.weights[0]\n",
    "w1 = test_perceptron.weights[1]\n",
    "w2 = test_perceptron.weights[2]\n",
    "\n",
    "m = (-w1/w2)\n",
    "b = (-bias/w2)\n",
    "\n",
    "x1 = np.linspace(-4, 10, 1000)\n",
    "y1 = m*x1 + b\n",
    "\n",
    "x2 = group_1.T[1]\n",
    "y2 = group_1.T[2]\n",
    "\n",
    "x3 = group_2.T[1]\n",
    "y3 = group_2.T[2]\n",
    "\n",
    "plt.plot(x1, y1, c = 'r')\n",
    "plt.scatter(x2, y2)\n",
    "plt.scatter(x3, y3)\n",
    "plt.axhline(y = 0, c = 'k')\n",
    "plt.axvline(x = 0, c = 'k')\n",
    "plt.show()"
   ]
  },
  {
   "cell_type": "markdown",
   "metadata": {},
   "source": [
    "We can see that our neural network has effectively generated a boundary with which to judge the classification of each datapoint. This production of a boundary extends to higher-dimensional datasets - a 3D dataset would have a planar boundary, etc."
   ]
  },
  {
   "cell_type": "markdown",
   "metadata": {},
   "source": [
    "Now, let's extend the neural network to look at a real, linearly separable dataset:\n",
    "specifically, a dataset describing cell characteristics to determine if they are cancerous or not.\n",
    "The dataset has 30 characteristics as inputs, along with an indicator if the cell is malignant or benign. The dataset is included in the repository.\n",
    "(obtained from https://archive.ics.uci.edu/ml/datasets/Breast+Cancer+Wisconsin+(Diagnostic)/  )\n",
    "\n",
    "I arbitrarily decided to use the first 250 datapoints to train the network and the rest to test it.\n",
    "The code for applying the neural network is essentially the same as for the first dataset."
   ]
  },
  {
   "cell_type": "code",
   "execution_count": 444,
   "metadata": {},
   "outputs": [],
   "source": [
    "cancer_data = pd.read_csv('bcdata.csv')"
   ]
  },
  {
   "cell_type": "code",
   "execution_count": 445,
   "metadata": {},
   "outputs": [],
   "source": [
    "train_data = np.array(cancer_data.iloc[:250, 1:])\n",
    "test_data = np.array(cancer_data.iloc[251:, 1:])\n",
    "train_labels = np.array(cancer_data.iloc[:250, 0])\n",
    "test_labels = np.array(cancer_data.iloc[251:, 0])"
   ]
  },
  {
   "cell_type": "code",
   "execution_count": 446,
   "metadata": {},
   "outputs": [
    {
     "name": "stdout",
     "output_type": "stream",
     "text": [
      "The neural network categorized the test data with 91.19% accuracy.\n"
     ]
    }
   ],
   "source": [
    "cancer_perceptron = Perceptron(30)  #data has 30 dimensions\n",
    "cancer_perceptron.trainweights(train_data, train_labels)\n",
    "\n",
    "test_size = len(test_data)\n",
    "predicted_labels = np.zeros(test_size)\n",
    "\n",
    "for i in range(test_size):\n",
    "    d = cancer_perceptron.predict(test_data[i])\n",
    "    predicted_labels[i] = d\n",
    "\n",
    "acc = 0\n",
    "for i in range(len(predicted_labels)):\n",
    "    if predicted_labels[i] == test_labels[i]:\n",
    "        acc += 1\n",
    "    else:\n",
    "        pass\n",
    "    \n",
    "acc = acc/len(predicted_labels)\n",
    "print('The neural network categorized the test data with ' + str(np.round(acc*100, 2))+ '% accuracy.')\n"
   ]
  },
  {
   "cell_type": "markdown",
   "metadata": {},
   "source": [
    "So we see that the same neural network structure used to differentiate between two very simple gaussian groups of data is\n",
    "applicable to a real-world, 30 dimensional breast cancer database. This illustrates exactly how powerful neural networks are."
   ]
  },
  {
   "cell_type": "markdown",
   "metadata": {},
   "source": [
    "https://www.bogotobogo.com/python/scikit-learn/Perceptron_Model_with_Iris_DataSet.php\n",
    "\n",
    "https://medium.com/@thomascountz/19-line-line-by-line-python-perceptron-b6f113b161f3\n",
    "\n",
    "https://medium.com/@thomascountz/calculate-the-decision-boundary-of-a-single-perceptron-visualizing-linear-separability-c4d77099ef38\n",
    "\n",
    "https://archive.ics.uci.edu/ml/datasets/iris"
   ]
  },
  {
   "cell_type": "code",
   "execution_count": null,
   "metadata": {},
   "outputs": [],
   "source": []
  }
 ],
 "metadata": {
  "kernelspec": {
   "display_name": "Python 3",
   "language": "python",
   "name": "python3"
  },
  "language_info": {
   "codemirror_mode": {
    "name": "ipython",
    "version": 3
   },
   "file_extension": ".py",
   "mimetype": "text/x-python",
   "name": "python",
   "nbconvert_exporter": "python",
   "pygments_lexer": "ipython3",
   "version": "3.6.4"
  }
 },
 "nbformat": 4,
 "nbformat_minor": 2
}
